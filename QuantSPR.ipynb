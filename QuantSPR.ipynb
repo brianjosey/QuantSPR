{
 "cells": [
  {
   "cell_type": "markdown",
   "metadata": {},
   "source": [
    "# Quantitative Evaluation of SPR Data\n",
    "\n",
    "* *Author:* Brian Josey\n",
    "* *Date Created:* 2018-04-12\n",
    "* *Date Modified:* 2019-08-21 by B.J.\n",
    "* *Language:* Python 2.7\n",
    "\n",
    "This notebook sets out to quantify the mass of neurotransmitters (NT) adsorbed to sparsely tethered bilayer lipid membranses (stBLM) by comparing the saturation respons in surface plasmon resonance (SPR) to the volume of adsorbed NT measured through neutron reflectometry (NR). In SPR the resonsponse of the instrument at equilibrium, $R_{eq}$, is given by a modified Langmuir isotherm:\n",
    "\n",
    "$ R_{eq} = \\frac {c R_{\\infty}}{c + K_{D}} + c \\frac{\\mathrm{d}R}{\\mathrm{d}n} \\frac{\\mathrm{d}n}{\\mathrm{d}c} $\n",
    "\n",
    "where:\n",
    "* $c$ is the concentration,\n",
    "* $R_{\\infty} = R(t \\rightarrow \\infty)$ is the saturation as time, $t$, approaches infinity,\n",
    "* $K_{D}$ is the dissociation constant,\n",
    "* $\\mathrm{d}R/\\mathrm{d}n$ is the instrument response to changes in refractive index of the bulk solution above the interface, and \n",
    "* $\\mathrm{d}n/\\mathrm{d}c$ is the refractive index incriment.\n",
    "\n",
    "This quantification will be performed by calculating the SPR response for bilayers containing an amount of adsorbed NT as measrued by NR. This calculation is performed by estimating the refractive index of the NT-lipid complex based on the volume of adsorbed NT, performed elsewhere, and then calculating the SPR response. The results of the calculation will then be compared to SPR data to determine how 1 RIU of bound NT as measured by SPR corresponds to ng/cm$^2$."
   ]
  },
  {
   "cell_type": "code",
   "execution_count": 1,
   "metadata": {
    "collapsed": true
   },
   "outputs": [],
   "source": [
    "# Import libraries and packages.\n",
    "import matplotlib.pyplot as plt\n",
    "import csv\n",
    "\n",
    "from __future__ import division, print_function, absolute_import\n",
    "from tmm.tmm_core import (coh_tmm, unpolarized_RT, ellips, position_resolved, find_in_structure_with_inf)\n",
    "from numpy import pi, linspace, inf, array\n",
    "from scipy.interpolate import interp1d"
   ]
  },
  {
   "cell_type": "markdown",
   "metadata": {},
   "source": [
    "## Parameters\n",
    "\n",
    "There are two instruments simulated in these calculations, one at the Institute for Bioscience and Biotechnology Research (IBBR) in Rockville, MD, and the other at Carnegie Mellon University (CMU) in Pittsburgh, PA. Both systems are composed of a substrate with an stBLM resting on top of in the Kretschmann configuration with an aqueous buffer. The layers, in order, are:\n",
    "\n",
    "* Optical substrate either sapphire (IBBR) or glass (CMU)\n",
    "* Chromium\n",
    "* Gold\n",
    "* Submembrane water layer (tethers)\n",
    "* Inner headgroup\n",
    "* Inner hydrocarbons\n",
    "* Outer hydrocarbons\n",
    "* Outer headgroup\n",
    "* Buffer\n",
    "\n",
    "The two instruments have different wavelengths, $\\lambda$ = 633 nm (IBBR) or 763.8 nm (CMU), so the refractive indices differ in the metalic layers. The refractive indices are also assumed to be real in the non-metalic layers."
   ]
  },
  {
   "cell_type": "code",
   "execution_count": 2,
   "metadata": {
    "collapsed": true
   },
   "outputs": [],
   "source": [
    "# Preliminary variables and constants.\n",
    "\n",
    "\"\"\"\n",
    "The variables and constants for the simulations are set up in this cell. They will be called to and changed in later\n",
    "cells, with the specific variables.\n",
    "\"\"\"\n",
    "\n",
    "# Universal Values\n",
    "DEGREE = pi/180                                                   # Perform calculations in degrees \n",
    "\n",
    "\n",
    "# Instrument and Simulation Parameters-IBBR\n",
    "lam_vac_ibbr = 633                                                    # Wavelength in nm\n",
    "theta_list_ibbr = linspace(61*DEGREE, 62*DEGREE, num=1500)             # Range of angles simulated\n",
    "d_list_ibbr = [inf, 0.5, 4.4, 0.618, 0.900, 1.571, 1.132, 0.900, inf]  # Layer thickness in nm\n",
    "n_list_ibbr = [1.77, 3.0891+3.3411j, 0.13989+3.7015j, 1.33518, 1.45029, 1.45295, 1.45703, 1.45156, 1.33518] # Refractive indices\n",
    "\n",
    "\n",
    "#Instrument and Simulation Parameters-CMU\n",
    "lam_vac_cmu = 763.8                                                  # Wavelength in nm\n",
    "theta_list_cmu = linspace(71.5*DEGREE, 72.5*DEGREE, num=1500)        # Range of angles simulated\n",
    "d_list_cmu = [inf, 0.5, 4.4, 0.618, 0.900, 1.571, 1.132, 0.900, inf] # Layer thickness in nm\n",
    "n_list_cmu = [1.52, 3.095+3.428j, 0.172+4.7361j, 1.33518, 1.45029, 1.45295, 1.45703, 1.45156, 1.33518]  # Refractive indices\n",
    "\n",
    "\n"
   ]
  },
  {
   "cell_type": "code",
   "execution_count": 25,
   "metadata": {
    "collapsed": true
   },
   "outputs": [],
   "source": [
    "# Simulation Variables\n",
    "\n",
    "# Variables-IBBR\n",
    "x_ibbr = 8;                   # Selects which element in the array to vary, in this case the bulk phase.\n",
    "x_ibbr_min = 1.33518;         # Sets the minimum value of that variable.\n",
    "x_ibbr_max = x_ibbr_min;      # Sets the maximum value of that variable.\n",
    "x_ibbr_num = 1;               # Determines the number of iterations over which the simulations is ran.\n",
    "ibbr_csv = csv.writer(open(\"Adsorbed-IBBR.csv\",\"wb\"))\n",
    "\n",
    "\n",
    "# Variables-CMU\n",
    "x_cmu = 8;\n",
    "x_cmu_min = x_ibbr_min;\n",
    "x_cmu_max = x_ibbr_min;\n",
    "x_cmu_num = 1;\n",
    "cmu_csv = csv.writer(open(\"Adsorbed-CMU.csv\",\"wb\"))\n"
   ]
  },
  {
   "cell_type": "code",
   "execution_count": 29,
   "metadata": {
    "collapsed": true
   },
   "outputs": [],
   "source": [
    "# Define the plot and sample functions for the IBBR instrument\n",
    "\n",
    "def plot_IBBR():\n",
    "    n_list_min_ibbr = [1.77, 3.0891+3.3411j, 0.13989+3.7015j, 1.33518, 1.45029, 1.45295, 1.45703, 1.45156, x_ibbr_min]\n",
    "    n_list_max_ibbr = [1.77, 3.0891+3.3411j, 0.13989+3.7015j, 1.33518, 1.45029, 1.45295, 1.45703, 1.45156, x_ibbr_max]\n",
    "#    d_list_min_ibbr = [inf, 0.5, 4.4, 1.5, 4, xmin, inf]\n",
    "#    d_list_max_ibbr = [inf, 0.5, 4.4, 1.5, 4, xmax, inf]\n",
    "    \n",
    "    Rpmin = []\n",
    "    for theta in theta_list_ibbr:\n",
    "        Rpmin.append(coh_tmm('p', n_list_min_ibbr, d_list_ibbr, theta, lam_vac_ibbr)['R'])\n",
    "   \n",
    "    Rpmax = []\n",
    "    for theta in theta_list_ibbr:\n",
    "        Rpmax.append(coh_tmm('p', n_list_max_ibbr, d_list_ibbr, theta, lam_vac_ibbr)['R'])\n",
    "    plt.figure()\n",
    "    plt.plot(theta_list_ibbr/DEGREE, Rpmin, 'red')\n",
    "    plt.plot(theta_list_ibbr/DEGREE, Rpmax, 'blue')\n",
    "    plt.xlabel('theta (degree)')\n",
    "    plt.ylabel('Fraction reflected')\n",
    "    plt.xlim(60, 90)\n",
    "    plt.ylim(0.85, 1)\n",
    "    plt.title('Reflection of p-polarized light with Surface Plasmon Resonance IBBR\\n')\n",
    "    plt.show()\n",
    "\n",
    "    \n",
    "def sample_IBBR():\n",
    "    for n_list_ibbr[x_ibbr] in linspace(x_ibbr_min, x_ibbr_max, num=x_ibbr_num):\n",
    "        Rp = []\n",
    "        for theta in theta_list_ibbr:\n",
    "            Rp.append(coh_tmm('p', n_list_ibbr, d_list_ibbr, theta, lam_vac_ibbr)['R'])\n",
    "        mini = min(Rp);\n",
    "        rpindex = Rp.index(mini)\n",
    "        tindex = theta_list_ibbr[rpindex] / DEGREE\n",
    "        #ibbr_csv.writerow([n_list_ibbr[x_ibbr],tindex])\n",
    "        print(n_list_ibbr[x_ibbr])\n",
    "        print(tindex)\n",
    "    \n"
   ]
  },
  {
   "cell_type": "code",
   "execution_count": 44,
   "metadata": {
    "collapsed": false
   },
   "outputs": [],
   "source": [
    "# Define the plot and sample functions for the IBBR instrument\n",
    "def plot_CMU():\n",
    "    n_list_min_cmu = [1.52, 3.095+3.428j, 0.172+4.7361j, 1.33518, 1.45029, 1.45295, 1.45703, 1.45156, x_cmu_min]\n",
    "    n_list_max_cmu = [1.52, 3.095+3.428j, 0.172+4.7361j, 1.33518, 1.45029, 1.45295, 1.45703, 1.45156, x_cmu_max]\n",
    "#    d_list_min = [inf, 0.5, 4.4, 1.5, 4, xmin, inf]\n",
    "#    d_list_max = [inf, 0.5, 4.4, 1.5, 4, xmax, inf]\n",
    "\n",
    "    Rpmin2 = []\n",
    "    for theta in theta_list_cmu:\n",
    "        Rpmin2.append(coh_tmm('p', n_list_min_cmu, d_list_cmu, theta, lam_vac_cmu)['R'])\n",
    "   \n",
    "    Rpmax2 = []\n",
    "    for theta in theta_list_cmu:\n",
    "        Rpmax2.append(coh_tmm('p', n_list_max_cmu, d_list_cmu, theta, lam_vac_cmu)['R'])\n",
    "    plt.figure()\n",
    "    plt.plot(theta_list_cmu/DEGREE, Rpmin2, 'red')\n",
    "    plt.plot(theta_list_cmu/DEGREE, Rpmax2, 'blue')\n",
    "    plt.xlabel('theta (degree)')\n",
    "    plt.ylabel('Fraction reflected')\n",
    "    plt.xlim(60, 90)\n",
    "    plt.ylim(0.85, 1)\n",
    "    plt.title('Reflection of p-polarized light with Surface Plasmon Resonance IBBR\\n')\n",
    "    plt.show()\n",
    "\n",
    "    \n",
    "def sample_CMU():\n",
    "    \n",
    "    for n_list_cmu[x_cmu] in linspace(x_cmu_min, x_cmu_max, num=x_cmu_num):\n",
    "        Rp2 = []\n",
    "        for theta in theta_list_cmu:\n",
    "            Rp2.append(coh_tmm('p', n_list_cmu, d_list_cmu, theta, lam_vac_cmu)['R'])\n",
    "        mini = min(Rp2);\n",
    "        rpindex2 = Rp2.index(mini)\n",
    "        tindex2 = theta_list_cmu[rpindex2] / DEGREE\n",
    "        #d.writerow([n_list_cmu[x_cmu],tindex2])\n",
    "        print(n_list_cmu[x_cmu])\n",
    "        print(tindex2)\n",
    "\n",
    "\n"
   ]
  },
  {
   "cell_type": "code",
   "execution_count": 45,
   "metadata": {
    "collapsed": false
   },
   "outputs": [
    {
     "data": {
      "image/png": "[encoded data removed]",
      "text/plain": [
       "<matplotlib.figure.Figure at 0x109f6b7d0>"
      ]
     },
     "metadata": {},
     "output_type": "display_data"
    }
   ],
   "source": [
    "plot_CMU()"
   ]
  },
  {
   "cell_type": "code",
   "execution_count": 46,
   "metadata": {
    "collapsed": false
   },
   "outputs": [
    {
     "name": "stdout",
     "output_type": "stream",
     "text": [
      "1.33518\n",
      "71.7481654436\n"
     ]
    }
   ],
   "source": [
    "sample_CMU()"
   ]
  },
  {
   "cell_type": "code",
   "execution_count": null,
   "metadata": {
    "collapsed": true
   },
   "outputs": [],
   "source": []
  }
 ],
 "metadata": {
  "kernelspec": {
   "display_name": "Python 2",
   "language": "python",
   "name": "python2"
  },
  "language_info": {
   "codemirror_mode": {
    "name": "ipython",
    "version": 2
   },
   "file_extension": ".py",
   "mimetype": "text/x-python",
   "name": "python",
   "nbconvert_exporter": "python",
   "pygments_lexer": "ipython2",
   "version": "2.7.13"
  }
 },
 "nbformat": 4,
 "nbformat_minor": 2
}
